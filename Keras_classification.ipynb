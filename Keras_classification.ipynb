{
  "nbformat": 4,
  "nbformat_minor": 0,
  "metadata": {
    "colab": {
      "name": "Keras_classification.ipynb",
      "provenance": [],
      "collapsed_sections": [],
      "include_colab_link": true
    },
    "kernelspec": {
      "name": "python3",
      "display_name": "Python 3"
    },
    "accelerator": "GPU"
  },
  "cells": [
    {
      "cell_type": "markdown",
      "metadata": {
        "id": "view-in-github",
        "colab_type": "text"
      },
      "source": [
        "<a href=\"https://colab.research.google.com/github/vernikagupta/Deep_Learning_with_Maths/blob/master/Keras_classification.ipynb\" target=\"_parent\"><img src=\"https://colab.research.google.com/assets/colab-badge.svg\" alt=\"Open In Colab\"/></a>"
      ]
    },
    {
      "cell_type": "code",
      "metadata": {
        "colab": {
          "base_uri": "https://localhost:8080/"
        },
        "id": "qp9ybsSOaXwA",
        "outputId": "9b2e4719-f715-414c-a07a-eac86f6d9fab"
      },
      "source": [
        "from google.colab import drive\n",
        "drive.mount('/content/drive')"
      ],
      "execution_count": null,
      "outputs": [
        {
          "output_type": "stream",
          "text": [
            "Drive already mounted at /content/drive; to attempt to forcibly remount, call drive.mount(\"/content/drive\", force_remount=True).\n"
          ],
          "name": "stdout"
        }
      ]
    },
    {
      "cell_type": "code",
      "metadata": {
        "id": "tiAhYwh-JZLa"
      },
      "source": [
        "from keras.layers import Input, Lambda, Dense, Flatten\n",
        "from keras.models import Model\n",
        "from keras.applications.vgg16 import VGG16\n",
        "from keras.applications.vgg16 import preprocess_input\n",
        "from keras.preprocessing import image\n",
        "from keras.preprocessing.image import ImageDataGenerator\n",
        "from keras.models import Sequential\n",
        "import numpy as np\n",
        "from glob import glob\n",
        "from sklearn.metrics import classification_report, confusion_matrix\n",
        "import matplotlib.pyplot as plt\n",
        "\n",
        "import warnings\n",
        "warnings.filterwarnings(\"ignore\", category=FutureWarning)"
      ],
      "execution_count": null,
      "outputs": []
    },
    {
      "cell_type": "code",
      "metadata": {
        "id": "iaLQYmgPKICM"
      },
      "source": [
        "IMAGE_SIZE = [512, 512]"
      ],
      "execution_count": null,
      "outputs": []
    },
    {
      "cell_type": "code",
      "metadata": {
        "id": "ybpzeuQaKILB"
      },
      "source": [
        "#Give dataset path\n",
        "# path = '/content/drive/MyDrive/Work/CNN architechtures/CNN Architechtures/p&g data'\n",
        "train_path = '/content/drive/MyDrive/Work/CNN architechtures/CNN Architechtures/p&g data/train'\n",
        "valid_path =  '/content/drive/MyDrive/Work/CNN architechtures/CNN Architechtures/p&g data/val'\n",
        "test_path = '/content/drive/MyDrive/Work/CNN architechtures/CNN Architechtures/p&g data/test'"
      ],
      "execution_count": null,
      "outputs": []
    },
    {
      "cell_type": "code",
      "metadata": {
        "id": "XG0Mn-MOKIIK"
      },
      "source": [
        "vgg = VGG16(input_shape=IMAGE_SIZE + [3], weights='imagenet', include_top=False)"
      ],
      "execution_count": null,
      "outputs": []
    },
    {
      "cell_type": "code",
      "metadata": {
        "id": "7nab8s0fKIF7"
      },
      "source": [
        "# don't train existing weights\n",
        "for layer in vgg.layers:\n",
        "  layer.trainable = False"
      ],
      "execution_count": null,
      "outputs": []
    },
    {
      "cell_type": "code",
      "metadata": {
        "id": "NAqGjsOlLRKG"
      },
      "source": [
        "# from google.colab import files\n",
        "# uploaded = files.upload()"
      ],
      "execution_count": null,
      "outputs": []
    },
    {
      "cell_type": "code",
      "metadata": {
        "id": "7-er2DmGLRRU"
      },
      "source": [
        "# !unzip 'data (1).zip'"
      ],
      "execution_count": null,
      "outputs": []
    },
    {
      "cell_type": "code",
      "metadata": {
        "id": "5Gc9ZoOjLRXe"
      },
      "source": [
        "# !ls"
      ],
      "execution_count": null,
      "outputs": []
    },
    {
      "cell_type": "code",
      "metadata": {
        "id": "rNBcL8H6LRgI",
        "colab": {
          "base_uri": "https://localhost:8080/"
        },
        "outputId": "54bfdccd-4133-4325-ee67-8efbe9686dc7"
      },
      "source": [
        "# useful for getting number of classes\n",
        "folders = glob('/content/drive/MyDrive/Work/CNN architechtures/CNN Architechtures/data/train/*')\n",
        "print(len(folders))"
      ],
      "execution_count": null,
      "outputs": [
        {
          "output_type": "stream",
          "text": [
            "2\n"
          ],
          "name": "stdout"
        }
      ]
    },
    {
      "cell_type": "code",
      "metadata": {
        "id": "tyP8DF60LRkY",
        "colab": {
          "base_uri": "https://localhost:8080/"
        },
        "outputId": "d8a57a68-9006-4788-d30b-091bb01079b5"
      },
      "source": [
        "x = Flatten()(vgg.output)\n",
        "prediction = Dense(1, activation='sigmoid')(x)  \n",
        "model = Model(inputs=vgg.input, outputs=prediction)\n",
        "model.summary()"
      ],
      "execution_count": null,
      "outputs": [
        {
          "output_type": "stream",
          "text": [
            "Model: \"model\"\n",
            "_________________________________________________________________\n",
            "Layer (type)                 Output Shape              Param #   \n",
            "=================================================================\n",
            "input_1 (InputLayer)         [(None, 512, 512, 3)]     0         \n",
            "_________________________________________________________________\n",
            "block1_conv1 (Conv2D)        (None, 512, 512, 64)      1792      \n",
            "_________________________________________________________________\n",
            "block1_conv2 (Conv2D)        (None, 512, 512, 64)      36928     \n",
            "_________________________________________________________________\n",
            "block1_pool (MaxPooling2D)   (None, 256, 256, 64)      0         \n",
            "_________________________________________________________________\n",
            "block2_conv1 (Conv2D)        (None, 256, 256, 128)     73856     \n",
            "_________________________________________________________________\n",
            "block2_conv2 (Conv2D)        (None, 256, 256, 128)     147584    \n",
            "_________________________________________________________________\n",
            "block2_pool (MaxPooling2D)   (None, 128, 128, 128)     0         \n",
            "_________________________________________________________________\n",
            "block3_conv1 (Conv2D)        (None, 128, 128, 256)     295168    \n",
            "_________________________________________________________________\n",
            "block3_conv2 (Conv2D)        (None, 128, 128, 256)     590080    \n",
            "_________________________________________________________________\n",
            "block3_conv3 (Conv2D)        (None, 128, 128, 256)     590080    \n",
            "_________________________________________________________________\n",
            "block3_pool (MaxPooling2D)   (None, 64, 64, 256)       0         \n",
            "_________________________________________________________________\n",
            "block4_conv1 (Conv2D)        (None, 64, 64, 512)       1180160   \n",
            "_________________________________________________________________\n",
            "block4_conv2 (Conv2D)        (None, 64, 64, 512)       2359808   \n",
            "_________________________________________________________________\n",
            "block4_conv3 (Conv2D)        (None, 64, 64, 512)       2359808   \n",
            "_________________________________________________________________\n",
            "block4_pool (MaxPooling2D)   (None, 32, 32, 512)       0         \n",
            "_________________________________________________________________\n",
            "block5_conv1 (Conv2D)        (None, 32, 32, 512)       2359808   \n",
            "_________________________________________________________________\n",
            "block5_conv2 (Conv2D)        (None, 32, 32, 512)       2359808   \n",
            "_________________________________________________________________\n",
            "block5_conv3 (Conv2D)        (None, 32, 32, 512)       2359808   \n",
            "_________________________________________________________________\n",
            "block5_pool (MaxPooling2D)   (None, 16, 16, 512)       0         \n",
            "_________________________________________________________________\n",
            "flatten (Flatten)            (None, 131072)            0         \n",
            "_________________________________________________________________\n",
            "dense (Dense)                (None, 1)                 131073    \n",
            "=================================================================\n",
            "Total params: 14,845,761\n",
            "Trainable params: 131,073\n",
            "Non-trainable params: 14,714,688\n",
            "_________________________________________________________________\n"
          ],
          "name": "stdout"
        }
      ]
    },
    {
      "cell_type": "code",
      "metadata": {
        "id": "v6scjk8RLRbw"
      },
      "source": [
        "from keras import optimizers\n",
        "\n",
        "\n",
        "sgd = optimizers.SGD(lr=0.01, decay=1e-6, momentum=0.9)\n",
        "model.compile(loss='binary_crossentropy',\n",
        "              optimizer=sgd,\n",
        "              metrics=['accuracy',\"binary_accuracy\"])"
      ],
      "execution_count": null,
      "outputs": []
    },
    {
      "cell_type": "code",
      "metadata": {
        "id": "068BmXnrLROS"
      },
      "source": [
        "# Data Augmentation\n",
        "train_datagen = ImageDataGenerator(\n",
        "    preprocessing_function=preprocess_input,\n",
        "    rotation_range=40,\n",
        "    width_shift_range=0.2,\n",
        "    height_shift_range=0.2,\n",
        "    shear_range=0.2,\n",
        "    zoom_range=0.2,\n",
        "    horizontal_flip=True,\n",
        "    fill_mode='nearest')"
      ],
      "execution_count": null,
      "outputs": []
    },
    {
      "cell_type": "code",
      "metadata": {
        "id": "C-HUbwSte6P-"
      },
      "source": [
        "valid_datagen = ImageDataGenerator(\r\n",
        "    preprocessing_function=preprocess_input,\r\n",
        "    rotation_range=40,\r\n",
        "    width_shift_range=0.2,\r\n",
        "    height_shift_range=0.2,\r\n",
        "    shear_range=0.2,\r\n",
        "    zoom_range=0.2,\r\n",
        "    horizontal_flip=True,\r\n",
        "    fill_mode='nearest')"
      ],
      "execution_count": null,
      "outputs": []
    },
    {
      "cell_type": "code",
      "metadata": {
        "id": "eMRmZvVCco60"
      },
      "source": [
        "# Data Augmentation\n",
        "# test_datagen = ImageDataGenerator(\n",
        "#     preprocessing_function=preprocess_input,\n",
        "#     rotation_range=40,\n",
        "#     width_shift_range=0.2,\n",
        "#     height_shift_range=0.2,\n",
        "#     shear_range=0.2,\n",
        "#     zoom_range=0.2,\n",
        "#     horizontal_flip=True,\n",
        "#     fill_mode='nearest')"
      ],
      "execution_count": null,
      "outputs": []
    },
    {
      "cell_type": "code",
      "metadata": {
        "id": "3FtJxddwcr21",
        "colab": {
          "base_uri": "https://localhost:8080/"
        },
        "outputId": "8cb6efc6-ecdf-4ff8-b9c6-9f1ff2b30913"
      },
      "source": [
        "# Make sure you provide the same target size as initialied for the image size\n",
        "train_set = train_datagen.flow_from_directory('/content/drive/MyDrive/Work/CNN architechtures/CNN Architechtures/data/train',\n",
        "                                                 target_size = (512, 512),\n",
        "                                                color_mode=\"rgb\",\n",
        "                                                 batch_size = 32,\n",
        "                                                  shuffle=True,\n",
        "                                                 seed=42,\n",
        "                                                 class_mode = 'binary')"
      ],
      "execution_count": null,
      "outputs": [
        {
          "output_type": "stream",
          "text": [
            "Found 79 images belonging to 2 classes.\n"
          ],
          "name": "stdout"
        }
      ]
    },
    {
      "cell_type": "code",
      "metadata": {
        "colab": {
          "base_uri": "https://localhost:8080/"
        },
        "id": "wbvVBoB9eqDr",
        "outputId": "a0f50a76-b8ee-4c35-ba33-064cabaceabf"
      },
      "source": [
        "valid_set = valid_datagen.flow_from_directory(\r\n",
        "    directory='/content/drive/MyDrive/Work/CNN architechtures/CNN Architechtures/data/val',\r\n",
        "    target_size=(512, 512),\r\n",
        "    color_mode=\"rgb\",\r\n",
        "    batch_size=8,\r\n",
        "    class_mode=\"binary\",\r\n",
        "    shuffle=True,\r\n",
        "    seed=42\r\n",
        ")"
      ],
      "execution_count": null,
      "outputs": [
        {
          "output_type": "stream",
          "text": [
            "Found 116 images belonging to 2 classes.\n"
          ],
          "name": "stdout"
        }
      ]
    },
    {
      "cell_type": "code",
      "metadata": {
        "id": "oHXj0OMDdiiI",
        "colab": {
          "base_uri": "https://localhost:8080/",
          "height": 214
        },
        "outputId": "8c7c24bb-890c-407c-860b-80069db78cb7"
      },
      "source": [
        "test_set = test_datagen.flow_from_directory('/content/drive/MyDrive/Work/CNN architechtures/CNN Architechtures/data/test',\n",
        "                                            target_size = (512, 512),\n",
        "                                            batch_size = 1,\n",
        "                                            class_mode = 'binary')"
      ],
      "execution_count": null,
      "outputs": [
        {
          "output_type": "error",
          "ename": "NameError",
          "evalue": "ignored",
          "traceback": [
            "\u001b[0;31m---------------------------------------------------------------------------\u001b[0m",
            "\u001b[0;31mNameError\u001b[0m                                 Traceback (most recent call last)",
            "\u001b[0;32m<ipython-input-1-8080a19917eb>\u001b[0m in \u001b[0;36m<module>\u001b[0;34m()\u001b[0m\n\u001b[0;32m----> 1\u001b[0;31m test_set = test_datagen.flow_from_directory('/content/drive/MyDrive/Work/CNN architechtures/CNN Architechtures/data/test',\n\u001b[0m\u001b[1;32m      2\u001b[0m                                             \u001b[0mtarget_size\u001b[0m \u001b[0;34m=\u001b[0m \u001b[0;34m(\u001b[0m\u001b[0;36m512\u001b[0m\u001b[0;34m,\u001b[0m \u001b[0;36m512\u001b[0m\u001b[0;34m)\u001b[0m\u001b[0;34m,\u001b[0m\u001b[0;34m\u001b[0m\u001b[0;34m\u001b[0m\u001b[0m\n\u001b[1;32m      3\u001b[0m                                             \u001b[0mbatch_size\u001b[0m \u001b[0;34m=\u001b[0m \u001b[0;36m1\u001b[0m\u001b[0;34m,\u001b[0m\u001b[0;34m\u001b[0m\u001b[0;34m\u001b[0m\u001b[0m\n\u001b[1;32m      4\u001b[0m                                             class_mode = 'binary')\n",
            "\u001b[0;31mNameError\u001b[0m: name 'test_datagen' is not defined"
          ]
        }
      ]
    },
    {
      "cell_type": "code",
      "metadata": {
        "id": "Z5pDH4CldsHY",
        "colab": {
          "base_uri": "https://localhost:8080/"
        },
        "outputId": "6fab2543-22fb-478e-cd51-9af13bc949fa"
      },
      "source": [
        "from datetime import datetime\n",
        "from keras.callbacks import ModelCheckpoint, LearningRateScheduler\n",
        "from keras.callbacks import ReduceLROnPlateau\n",
        "\n",
        "#lr_scheduler = LearningRateScheduler(lr_schedule)\n",
        "\n",
        "#lr_reducer = ReduceLROnPlateau(factor=np.sqrt(0.1),\n",
        "#                               cooldown=0,\n",
        "#                               patience=5,\n",
        "#                               min_lr=0.5e-6)\n",
        "\n",
        "#num_epochs = 1000\n",
        "batch_size = 2\n",
        "\n",
        "checkpoint = ModelCheckpoint(filepath='vgg16.h5', monitor='val_loss',\n",
        "                               verbose=1, save_best_only=True,mode='auto')\n",
        "\n",
        "callbacks = [checkpoint]\n",
        "\n",
        "start = datetime.now()\n",
        "\n",
        "hist = model.fit_generator(\n",
        "  train_set,\n",
        "  validation_data=valid_set,\n",
        "  epochs=10,\n",
        "  steps_per_epoch=len(train_set)//batch_size,\n",
        "  validation_steps=len(valid_set)//batch_size ,\n",
        "  callbacks=callbacks ,verbose=1)\n",
        "\n",
        "\n",
        "duration = datetime.now() - start\n",
        "print(\"Training completed in time: \", duration)"
      ],
      "execution_count": null,
      "outputs": [
        {
          "output_type": "stream",
          "text": [
            "/usr/local/lib/python3.6/dist-packages/tensorflow/python/keras/engine/training.py:1844: UserWarning: `Model.fit_generator` is deprecated and will be removed in a future version. Please use `Model.fit`, which supports generators.\n",
            "  warnings.warn('`Model.fit_generator` is deprecated and '\n"
          ],
          "name": "stderr"
        },
        {
          "output_type": "stream",
          "text": [
            "Epoch 1/10\n",
            "1/1 [==============================] - 12s 12s/step - loss: 1.2609 - accuracy: 0.6250 - binary_accuracy: 0.6250 - val_loss: 99.1937 - val_accuracy: 0.4286 - val_binary_accuracy: 0.4286\n",
            "\n",
            "Epoch 00001: val_loss improved from inf to 99.19375, saving model to vgg16.h5\n",
            "Epoch 2/10\n",
            "1/1 [==============================] - 8s 8s/step - loss: 39.6429 - accuracy: 0.7500 - binary_accuracy: 0.7500 - val_loss: 11.1531 - val_accuracy: 0.8036 - val_binary_accuracy: 0.8036\n",
            "\n",
            "Epoch 00002: val_loss improved from 99.19375 to 11.15313, saving model to vgg16.h5\n",
            "Epoch 3/10\n",
            "1/1 [==============================] - 8s 8s/step - loss: 40.9690 - accuracy: 0.4688 - binary_accuracy: 0.4688 - val_loss: 217.2173 - val_accuracy: 0.5357 - val_binary_accuracy: 0.5357\n",
            "\n",
            "Epoch 00003: val_loss did not improve from 11.15313\n",
            "Epoch 4/10\n",
            "1/1 [==============================] - 7s 7s/step - loss: 48.9784 - accuracy: 0.8667 - binary_accuracy: 0.8667 - val_loss: 354.0854 - val_accuracy: 0.5000 - val_binary_accuracy: 0.5000\n",
            "\n",
            "Epoch 00004: val_loss did not improve from 11.15313\n",
            "Epoch 5/10\n",
            "1/1 [==============================] - 7s 7s/step - loss: 93.7052 - accuracy: 0.9062 - binary_accuracy: 0.9062 - val_loss: 349.1006 - val_accuracy: 0.5000 - val_binary_accuracy: 0.5000\n",
            "\n",
            "Epoch 00005: val_loss did not improve from 11.15313\n",
            "Epoch 6/10\n",
            "1/1 [==============================] - 8s 8s/step - loss: 123.4560 - accuracy: 0.8750 - binary_accuracy: 0.8750 - val_loss: 273.5634 - val_accuracy: 0.5357 - val_binary_accuracy: 0.5357\n",
            "\n",
            "Epoch 00006: val_loss did not improve from 11.15313\n",
            "Epoch 7/10\n",
            "1/1 [==============================] - 7s 7s/step - loss: 119.9755 - accuracy: 0.7500 - binary_accuracy: 0.7500 - val_loss: 48.6395 - val_accuracy: 0.7321 - val_binary_accuracy: 0.7321\n",
            "\n",
            "Epoch 00007: val_loss did not improve from 11.15313\n",
            "Epoch 8/10\n",
            "1/1 [==============================] - 7s 7s/step - loss: 57.3080 - accuracy: 0.7333 - binary_accuracy: 0.7333 - val_loss: 161.4556 - val_accuracy: 0.6786 - val_binary_accuracy: 0.6786\n",
            "\n",
            "Epoch 00008: val_loss did not improve from 11.15313\n",
            "Epoch 9/10\n",
            "1/1 [==============================] - 8s 8s/step - loss: 212.9607 - accuracy: 0.5000 - binary_accuracy: 0.5000 - val_loss: 48.3223 - val_accuracy: 0.7857 - val_binary_accuracy: 0.7857\n",
            "\n",
            "Epoch 00009: val_loss did not improve from 11.15313\n",
            "Epoch 10/10\n",
            "1/1 [==============================] - 7s 7s/step - loss: 70.8665 - accuracy: 0.8000 - binary_accuracy: 0.8000 - val_loss: 220.2218 - val_accuracy: 0.6071 - val_binary_accuracy: 0.6071\n",
            "\n",
            "Epoch 00010: val_loss did not improve from 11.15313\n",
            "Training completed in time:  0:01:19.549143\n"
          ],
          "name": "stdout"
        }
      ]
    }
  ]
}